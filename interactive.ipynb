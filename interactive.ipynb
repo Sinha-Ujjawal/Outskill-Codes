{
 "cells": [
  {
   "cell_type": "code",
   "execution_count": 1,
   "id": "43a5572f-a4c4-4bbd-aec0-8f43e085c8dc",
   "metadata": {},
   "outputs": [
    {
     "name": "stdout",
     "output_type": "stream",
     "text": [
      "Hello, Outskillers\n"
     ]
    }
   ],
   "source": [
    "print(\"Hello, Outskillers\")"
   ]
  },
  {
   "cell_type": "code",
   "execution_count": 3,
   "id": "77cc0abb-fc83-4564-bdeb-0208eae163fe",
   "metadata": {},
   "outputs": [
    {
     "data": {
      "text/plain": [
       "120"
      ]
     },
     "execution_count": 3,
     "metadata": {},
     "output_type": "execute_result"
    }
   ],
   "source": [
    "def factorial(n: int) -> int:\n",
    "    acc = 1\n",
    "    for i in range(1, n+1):\n",
    "        acc *= i\n",
    "    return acc\n",
    "\n",
    "factorial(5)"
   ]
  },
  {
   "cell_type": "code",
   "execution_count": null,
   "id": "9b00034a-39b5-44c1-b392-37c4e8adf723",
   "metadata": {},
   "outputs": [],
   "source": []
  }
 ],
 "metadata": {
  "kernelspec": {
   "display_name": "Python 3 (ipykernel)",
   "language": "python",
   "name": "python3"
  },
  "language_info": {
   "codemirror_mode": {
    "name": "ipython",
    "version": 3
   },
   "file_extension": ".py",
   "mimetype": "text/x-python",
   "name": "python",
   "nbconvert_exporter": "python",
   "pygments_lexer": "ipython3",
   "version": "3.12.0"
  }
 },
 "nbformat": 4,
 "nbformat_minor": 5
}
