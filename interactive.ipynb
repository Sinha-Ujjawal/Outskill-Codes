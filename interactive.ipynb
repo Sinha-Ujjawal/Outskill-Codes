{
 "cells": [
  {
   "cell_type": "code",
   "execution_count": 1,
   "id": "43a5572f-a4c4-4bbd-aec0-8f43e085c8dc",
   "metadata": {},
   "outputs": [
    {
     "name": "stdout",
     "output_type": "stream",
     "text": [
      "Hello, Outskillers\n"
     ]
    }
   ],
   "source": [
    "print(\"Hello, Outskillers\")"
   ]
  },
  {
   "cell_type": "code",
   "execution_count": null,
   "id": "77cc0abb-fc83-4564-bdeb-0208eae163fe",
   "metadata": {},
   "outputs": [],
   "source": []
  }
 ],
 "metadata": {
  "kernelspec": {
   "display_name": "Python 3 (ipykernel)",
   "language": "python",
   "name": "python3"
  },
  "language_info": {
   "codemirror_mode": {
    "name": "ipython",
    "version": 3
   },
   "file_extension": ".py",
   "mimetype": "text/x-python",
   "name": "python",
   "nbconvert_exporter": "python",
   "pygments_lexer": "ipython3",
   "version": "3.12.0"
  }
 },
 "nbformat": 4,
 "nbformat_minor": 5
}
